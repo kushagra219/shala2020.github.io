{
 "cells": [
  {
   "cell_type": "markdown",
   "metadata": {
    "colab_type": "text",
    "id": "1X6ddOR8HFsX"
   },
   "source": [
    "\n",
    "# **Assignment - 2: Basic Data Understanding**\n",
    "\n",
    "---\n",
    "\n",
    "This assignment will get you familiarized with Python libraries and  functions required for data visualization."
   ]
  },
  {
   "cell_type": "markdown",
   "metadata": {
    "colab_type": "text",
    "id": "XRd4EfXN5fQb"
   },
   "source": [
    "---\n",
    "## Part 1 - Loading data \n",
    "---"
   ]
  },
  {
   "cell_type": "markdown",
   "metadata": {
    "colab_type": "text",
    "id": "Q7W6I-fVIoqp"
   },
   "source": [
    "###Import the following libraries:  \n",
    "\n",
    "* ```numpy``` with an alias name ```np```, \n",
    "* ```pandas``` with an alias name ```pd```, \n",
    "* ```matplotlib.pyplot``` with an alias name ```plt```, and \n",
    "* ```seaborn``` with an alias name ```sns```. "
   ]
  },
  {
   "cell_type": "code",
   "execution_count": 1,
   "metadata": {
    "colab": {},
    "colab_type": "code",
    "id": "NihF3MwIGI4m"
   },
   "outputs": [],
   "source": [
    "# Load the four libraries with their aliases \n",
    "# import ___ as ___\n",
    "import numpy as np\n",
    "import pandas as pd\n",
    "import matplotlib.pyplot as plt\n",
    "import seaborn as sns"
   ]
  },
  {
   "cell_type": "markdown",
   "metadata": {
    "colab_type": "text",
    "id": "dsLj-TSQJgMb"
   },
   "source": [
    "### Using the files ```train.csv``` and ```moviesData.csv```,  peform the following:\n",
    "\n",
    "* Load these file as ```pandas``` dataframes and store it in variables named ```df``` and ```movies``` respectively. \n",
    "* Print the first ten rows of ```df```. \n",
    "\n"
   ]
  },
  {
   "cell_type": "code",
   "execution_count": 0,
   "metadata": {
    "colab": {},
    "colab_type": "code",
    "id": "3AjvT40AGIq6"
   },
   "outputs": [],
   "source": [
    "# Load the file as a dataframe \n",
    "df = pd"
   ]
  },
  {
   "cell_type": "code",
   "execution_count": 0,
   "metadata": {
    "colab": {},
    "colab_type": "code",
    "id": "7eCo7WlMGMkn"
   },
   "outputs": [],
   "source": [
    "# Print the first ten rows of df\n",
    "df."
   ]
  },
  {
   "cell_type": "markdown",
   "metadata": {
    "colab_type": "text",
    "id": "PSm-U7LEF5u_"
   },
   "source": [
    "### Using the dataframe ```df```, perform the following: \n",
    "\n",
    "* Print the first five rows of the column ```MonthlyRate```. \n",
    "* Find out the details of the column ```MonthlyRate``` like mean, maximum value, minimum value, etc. "
   ]
  },
  {
   "cell_type": "code",
   "execution_count": 0,
   "metadata": {
    "colab": {},
    "colab_type": "code",
    "id": "QS5LttI-GT2f"
   },
   "outputs": [],
   "source": [
    "# Print the first five rows of MonthlyRate\n",
    "df"
   ]
  },
  {
   "cell_type": "code",
   "execution_count": 0,
   "metadata": {
    "colab": {},
    "colab_type": "code",
    "id": "EzQ1a1M0GURm"
   },
   "outputs": [],
   "source": [
    "# Find the details of MonthlyRate \n",
    "df"
   ]
  },
  {
   "cell_type": "markdown",
   "metadata": {
    "colab_type": "text",
    "id": "3h-YOTvPQI48"
   },
   "source": [
    "---\n",
    "## Part 2 - Cleaning and manipulating data \n",
    "---"
   ]
  },
  {
   "cell_type": "markdown",
   "metadata": {
    "colab_type": "text",
    "id": "EtLzBibsQfXu"
   },
   "source": [
    "### Using the dataframe ```df```, peform the following:\n",
    "\n",
    "* Check whether there are any missing values in ```df```. \n",
    "* If yes, drop those values and print the size of ```df``` after dropping these. "
   ]
  },
  {
   "cell_type": "code",
   "execution_count": 0,
   "metadata": {
    "colab": {},
    "colab_type": "code",
    "id": "XG-UK53fRDRZ"
   },
   "outputs": [],
   "source": [
    "# Check for missing values \n",
    "df\n",
    "\n",
    "# Drop the missing values \n",
    "\n",
    "\n",
    "# Print the size of df after dropping \n",
    "\n"
   ]
  },
  {
   "cell_type": "markdown",
   "metadata": {
    "colab_type": "text",
    "id": "qtoGcl2XRWnS"
   },
   "source": [
    "### Using the dataframe ```df```, peform the following:\n",
    "\n",
    "* Add another column named ```MonthRateNew``` in ```df``` by subtracting the mean from ```MonthlyRate``` and dividing it by standard deviation. "
   ]
  },
  {
   "cell_type": "code",
   "execution_count": 0,
   "metadata": {
    "colab": {},
    "colab_type": "code",
    "id": "zDMncSUKR12P"
   },
   "outputs": [],
   "source": [
    "# Add a column named MonthRateNew \n",
    "\n",
    "\n"
   ]
  },
  {
   "cell_type": "markdown",
   "metadata": {
    "colab_type": "text",
    "id": "pcbN7jep13og"
   },
   "source": [
    "### Using the dataframe ```movies```, perform the following: \n",
    "\n",
    "* Check whether there are any missing values in ```movies```. \n",
    "* Find out the number of observations/rows having any of their features/columns missing. \n",
    "* Drop the missing values and print the size of ```movies``` after dropping these. \n",
    "* Instead of dropping the missing values, replace the missing values by their mean (or some suitable value). \n"
   ]
  },
  {
   "cell_type": "code",
   "execution_count": 0,
   "metadata": {
    "colab": {},
    "colab_type": "code",
    "id": "DNszBx8A14ai"
   },
   "outputs": [],
   "source": [
    "# Check for missing values \n",
    "\n",
    "# Drop the missing values \n",
    "\n",
    "# Replace the missing values \n",
    "# You can use SimpleImputer of sklearn for this\n",
    "\n"
   ]
  },
  {
   "cell_type": "markdown",
   "metadata": {
    "colab_type": "text",
    "id": "qDr11sjlBk_W"
   },
   "source": [
    "---\n",
    "## Part 3 - Visualizing data \n",
    "---"
   ]
  },
  {
   "cell_type": "markdown",
   "metadata": {
    "colab_type": "text",
    "id": "wC_w1zNCBw2G"
   },
   "source": [
    "### Visualize the ```df``` by drawing the following plots:\n",
    "\n",
    "* Plot a histogram of ```Age``` and find the range in which most people are there. \n",
    "* Modify the histogram of ```Age``` by adding 30 bins. \n",
    "* Draw a scatter plot between ```Age``` and ```Attrition``` and suitable labels to the axes. Find out whether people more than 50 years are more likely to leave the company. (```Attrition``` = 1 means people have left the company). "
   ]
  },
  {
   "cell_type": "code",
   "execution_count": 0,
   "metadata": {
    "colab": {},
    "colab_type": "code",
    "id": "645EwAsoH63i"
   },
   "outputs": [],
   "source": [
    "# Plot and modify the histogram of Age\n",
    "\n",
    "\n",
    "# Draw a scatter plot between Age and Attrition\n",
    "\n"
   ]
  },
  {
   "cell_type": "markdown",
   "metadata": {
    "colab_type": "text",
    "id": "eez_pkZ-HDKP"
   },
   "source": [
    "### Visualize the ```df``` by following the steps given below:\n",
    "\n",
    "* Get a series containing counts of unique values of ```Attrition```.\n",
    "* Draw a countplot for ```Attrition``` using ```sns.countplot()```. "
   ]
  },
  {
   "cell_type": "code",
   "execution_count": 0,
   "metadata": {
    "colab": {},
    "colab_type": "code",
    "id": "Tp8LnxLWIPfk"
   },
   "outputs": [],
   "source": [
    "# Get a series of counts of values of Attrition\n",
    "\n",
    "\n",
    "# Draw a countplot for Attrition \n",
    "# You may use countplot of seaborn for this \n",
    "\n"
   ]
  },
  {
   "cell_type": "markdown",
   "metadata": {
    "colab_type": "text",
    "id": "Vi01m9MBHaJD"
   },
   "source": [
    "### Visualize the ```df``` by following the steps given below:\n",
    "\n",
    "* Draw a cross tabulation of ```Attrition``` and ```BusinessTravel``` as bar charts. Find which value of ```BusinessTravel``` has highest number of people."
   ]
  },
  {
   "cell_type": "code",
   "execution_count": 0,
   "metadata": {
    "colab": {},
    "colab_type": "code",
    "id": "5OHAeOqeIQVM"
   },
   "outputs": [],
   "source": [
    "# Draw a cross tab of Attritiona and BusinessTravel \n",
    "# You may use crosstab of pandas for this \n",
    "\n"
   ]
  },
  {
   "cell_type": "markdown",
   "metadata": {
    "colab_type": "text",
    "id": "1FCc9ZkUHfqL"
   },
   "source": [
    "### Visualize the ```df``` by drawing the following plot:\n",
    "\n",
    "* Draw a stacked bar chart between ```Attrition``` and ```Gender``` columns. "
   ]
  },
  {
   "cell_type": "code",
   "execution_count": 0,
   "metadata": {
    "colab": {},
    "colab_type": "code",
    "id": "58ELSAXBIQST"
   },
   "outputs": [],
   "source": [
    "# Draw a stacked bar chart between Attrition and Gender \n",
    "\n"
   ]
  },
  {
   "cell_type": "markdown",
   "metadata": {
    "colab_type": "text",
    "id": "vZzsi8_QLEdq"
   },
   "source": [
    "### Visualize the ```df``` by drawing the following histogram:\n",
    "\n",
    "* Draw a histogram of ```TotalWorkingYears``` with 30 bins. \n",
    "* Draw a histogram of ```YearsAtCompany``` with 30 bins and find whether the values in ```YearsAtCompany``` are skewed. "
   ]
  },
  {
   "cell_type": "code",
   "execution_count": 0,
   "metadata": {
    "colab": {},
    "colab_type": "code",
    "id": "zvSlfj3FLUvV"
   },
   "outputs": [],
   "source": [
    "# Draw a histogram of TotalWorkingYears with 30 bins\n",
    "\n",
    "\n",
    "# Draw a histogram of YearsAtCompany\n",
    "\n"
   ]
  },
  {
   "cell_type": "markdown",
   "metadata": {
    "colab_type": "text",
    "id": "oBcsFqz-Moja"
   },
   "source": [
    "### Visualize the ```df``` by drawing the following boxplot:\n",
    "\n",
    "* Draw a boxplot of ```MonthlyIncome``` for each ```Department``` and report whether there is/are outlier(s). \n"
   ]
  },
  {
   "cell_type": "code",
   "execution_count": 0,
   "metadata": {
    "colab": {},
    "colab_type": "code",
    "id": "S6zsSE65NED9"
   },
   "outputs": [],
   "source": [
    "# Draw a boxplot of MonthlyIncome for each Department and report outliers \n",
    "\n"
   ]
  },
  {
   "cell_type": "markdown",
   "metadata": {
    "colab_type": "text",
    "id": "NRPgJjp-NX07"
   },
   "source": [
    "### Visualize the ```df``` by drawing the following piechart:\n",
    "\n",
    "* Create a pie chart of the values in ```JobRole``` with suitable label and report which role has highest number of persons. "
   ]
  },
  {
   "cell_type": "code",
   "execution_count": 0,
   "metadata": {
    "colab": {},
    "colab_type": "code",
    "id": "5pr2HVVGNlaV"
   },
   "outputs": [],
   "source": [
    "# Create a piechart of JobRole \n",
    "# You will need to find the counts of unique values in JobRole. \n",
    "\n",
    "\n"
   ]
  }
 ],
 "metadata": {
  "colab": {
   "collapsed_sections": [],
   "name": "Assignment_2_DS.ipynb",
   "provenance": []
  },
  "kernelspec": {
   "display_name": "Python 3",
   "language": "python",
   "name": "python3"
  },
  "language_info": {
   "codemirror_mode": {
    "name": "ipython",
    "version": 3
   },
   "file_extension": ".py",
   "mimetype": "text/x-python",
   "name": "python",
   "nbconvert_exporter": "python",
   "pygments_lexer": "ipython3",
   "version": "3.7.4"
  }
 },
 "nbformat": 4,
 "nbformat_minor": 1
}
