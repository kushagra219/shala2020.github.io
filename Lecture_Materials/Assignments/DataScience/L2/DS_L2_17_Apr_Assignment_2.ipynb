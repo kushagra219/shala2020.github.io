{
 "cells": [
  {
   "cell_type": "markdown",
   "metadata": {
    "colab_type": "text",
    "id": "1X6ddOR8HFsX"
   },
   "source": [
    "\n",
    "# **Assignment - 2: Basic Data Understanding**\n",
    "\n",
    "---\n",
    "\n",
    "This assignment will get you familiarized with Python libraries and  functions required for data visualization."
   ]
  },
  {
   "cell_type": "markdown",
   "metadata": {
    "colab_type": "text",
    "id": "XRd4EfXN5fQb"
   },
   "source": [
    "---\n",
    "## Part 1 - Loading data \n",
    "---"
   ]
  },
  {
   "cell_type": "markdown",
   "metadata": {
    "colab_type": "text",
    "id": "Q7W6I-fVIoqp"
   },
   "source": [
    "###Import the following libraries:  \n",
    "\n",
    "* ```numpy``` with an alias name ```np```, \n",
    "* ```pandas``` with an alias name ```pd```, \n",
    "* ```matplotlib.pyplot``` with an alias name ```plt```, and \n",
    "* ```seaborn``` with an alias name ```sns```. "
   ]
  },
  {
   "cell_type": "code",
   "execution_count": 1,
   "metadata": {
    "colab": {},
    "colab_type": "code",
    "id": "NihF3MwIGI4m"
   },
   "outputs": [],
   "source": [
    "# Load the four libraries with their aliases \n",
    "# import ___ as ___\n",
    "import numpy as np\n",
    "import pandas as pd\n",
    "import matplotlib.pyplot as plt\n",
    "import seaborn as sns"
   ]
  },
  {
   "cell_type": "markdown",
   "metadata": {
    "colab_type": "text",
    "id": "dsLj-TSQJgMb"
   },
   "source": [
    "### Using the files ```train.csv``` and ```moviesData.csv```,  peform the following:\n",
    "\n",
    "* Load these file as ```pandas``` dataframes and store it in variables named ```df``` and ```movies``` respectively. \n",
    "* Print the first ten rows of ```df```. \n",
    "\n"
   ]
  },
  {
   "cell_type": "code",
   "execution_count": 33,
   "metadata": {
    "colab": {},
    "colab_type": "code",
    "id": "3AjvT40AGIq6"
   },
   "outputs": [],
   "source": [
    "# Load the file as a dataframe \n",
    "df = pd.read_csv('train.csv')\n",
    "movies = pd.read_csv('moviesData.csv')"
   ]
  },
  {
   "cell_type": "code",
   "execution_count": 26,
   "metadata": {
    "colab": {},
    "colab_type": "code",
    "id": "7eCo7WlMGMkn"
   },
   "outputs": [
    {
     "data": {
      "text/html": [
       "<div>\n",
       "<style scoped>\n",
       "    .dataframe tbody tr th:only-of-type {\n",
       "        vertical-align: middle;\n",
       "    }\n",
       "\n",
       "    .dataframe tbody tr th {\n",
       "        vertical-align: top;\n",
       "    }\n",
       "\n",
       "    .dataframe thead th {\n",
       "        text-align: right;\n",
       "    }\n",
       "</style>\n",
       "<table border=\"1\" class=\"dataframe\">\n",
       "  <thead>\n",
       "    <tr style=\"text-align: right;\">\n",
       "      <th></th>\n",
       "      <th>Unnamed: 0</th>\n",
       "      <th>title</th>\n",
       "      <th>title_type</th>\n",
       "      <th>genre</th>\n",
       "      <th>runtime</th>\n",
       "      <th>mpaa_rating</th>\n",
       "      <th>studio</th>\n",
       "      <th>thtr_rel_year</th>\n",
       "      <th>thtr_rel_month</th>\n",
       "      <th>thtr_rel_day</th>\n",
       "      <th>...</th>\n",
       "      <th>best_actor_win</th>\n",
       "      <th>best_actress_win</th>\n",
       "      <th>best_dir_win</th>\n",
       "      <th>top200_box</th>\n",
       "      <th>director</th>\n",
       "      <th>actor1</th>\n",
       "      <th>actor2</th>\n",
       "      <th>actor3</th>\n",
       "      <th>actor4</th>\n",
       "      <th>actor5</th>\n",
       "    </tr>\n",
       "  </thead>\n",
       "  <tbody>\n",
       "    <tr>\n",
       "      <th>0</th>\n",
       "      <td>1</td>\n",
       "      <td>Filly Brown</td>\n",
       "      <td>Feature Film</td>\n",
       "      <td>Drama</td>\n",
       "      <td>80.0</td>\n",
       "      <td>R</td>\n",
       "      <td>Indomina Media Inc.</td>\n",
       "      <td>2013</td>\n",
       "      <td>4</td>\n",
       "      <td>19</td>\n",
       "      <td>...</td>\n",
       "      <td>no</td>\n",
       "      <td>no</td>\n",
       "      <td>no</td>\n",
       "      <td>no</td>\n",
       "      <td>Michael D. Olmos</td>\n",
       "      <td>Gina Rodriguez</td>\n",
       "      <td>Jenni Rivera</td>\n",
       "      <td>Lou Diamond Phillips</td>\n",
       "      <td>Emilio Rivera</td>\n",
       "      <td>Joseph Julian Soria</td>\n",
       "    </tr>\n",
       "    <tr>\n",
       "      <th>1</th>\n",
       "      <td>2</td>\n",
       "      <td>The Dish</td>\n",
       "      <td>Feature Film</td>\n",
       "      <td>Drama</td>\n",
       "      <td>101.0</td>\n",
       "      <td>PG-13</td>\n",
       "      <td>Warner Bros. Pictures</td>\n",
       "      <td>2001</td>\n",
       "      <td>3</td>\n",
       "      <td>14</td>\n",
       "      <td>...</td>\n",
       "      <td>no</td>\n",
       "      <td>no</td>\n",
       "      <td>no</td>\n",
       "      <td>no</td>\n",
       "      <td>Rob Sitch</td>\n",
       "      <td>Sam Neill</td>\n",
       "      <td>Kevin Harrington</td>\n",
       "      <td>Patrick Warburton</td>\n",
       "      <td>Tom Long</td>\n",
       "      <td>Genevieve Mooy</td>\n",
       "    </tr>\n",
       "    <tr>\n",
       "      <th>2</th>\n",
       "      <td>3</td>\n",
       "      <td>Waiting for Guffman</td>\n",
       "      <td>Feature Film</td>\n",
       "      <td>Comedy</td>\n",
       "      <td>84.0</td>\n",
       "      <td>R</td>\n",
       "      <td>Sony Pictures Classics</td>\n",
       "      <td>1996</td>\n",
       "      <td>8</td>\n",
       "      <td>21</td>\n",
       "      <td>...</td>\n",
       "      <td>no</td>\n",
       "      <td>no</td>\n",
       "      <td>no</td>\n",
       "      <td>no</td>\n",
       "      <td>Christopher Guest</td>\n",
       "      <td>Christopher Guest</td>\n",
       "      <td>Catherine O'Hara</td>\n",
       "      <td>Parker Posey</td>\n",
       "      <td>Eugene Levy</td>\n",
       "      <td>Bob Balaban</td>\n",
       "    </tr>\n",
       "    <tr>\n",
       "      <th>3</th>\n",
       "      <td>4</td>\n",
       "      <td>The Age of Innocence</td>\n",
       "      <td>Feature Film</td>\n",
       "      <td>Drama</td>\n",
       "      <td>139.0</td>\n",
       "      <td>PG</td>\n",
       "      <td>Columbia Pictures</td>\n",
       "      <td>1993</td>\n",
       "      <td>10</td>\n",
       "      <td>1</td>\n",
       "      <td>...</td>\n",
       "      <td>yes</td>\n",
       "      <td>no</td>\n",
       "      <td>yes</td>\n",
       "      <td>no</td>\n",
       "      <td>Martin Scorsese</td>\n",
       "      <td>Daniel Day-Lewis</td>\n",
       "      <td>Michelle Pfeiffer</td>\n",
       "      <td>Winona Ryder</td>\n",
       "      <td>Richard E. Grant</td>\n",
       "      <td>Alec McCowen</td>\n",
       "    </tr>\n",
       "    <tr>\n",
       "      <th>4</th>\n",
       "      <td>5</td>\n",
       "      <td>Malevolence</td>\n",
       "      <td>Feature Film</td>\n",
       "      <td>Horror</td>\n",
       "      <td>90.0</td>\n",
       "      <td>R</td>\n",
       "      <td>Anchor Bay Entertainment</td>\n",
       "      <td>2004</td>\n",
       "      <td>9</td>\n",
       "      <td>10</td>\n",
       "      <td>...</td>\n",
       "      <td>no</td>\n",
       "      <td>no</td>\n",
       "      <td>no</td>\n",
       "      <td>no</td>\n",
       "      <td>Stevan Mena</td>\n",
       "      <td>Samantha Dark</td>\n",
       "      <td>R. Brandon Johnson</td>\n",
       "      <td>Brandon Johnson</td>\n",
       "      <td>Heather Magee</td>\n",
       "      <td>Richard Glover</td>\n",
       "    </tr>\n",
       "    <tr>\n",
       "      <th>5</th>\n",
       "      <td>6</td>\n",
       "      <td>Old Partner</td>\n",
       "      <td>Documentary</td>\n",
       "      <td>Documentary</td>\n",
       "      <td>78.0</td>\n",
       "      <td>Unrated</td>\n",
       "      <td>Shcalo Media Group</td>\n",
       "      <td>2009</td>\n",
       "      <td>1</td>\n",
       "      <td>15</td>\n",
       "      <td>...</td>\n",
       "      <td>no</td>\n",
       "      <td>no</td>\n",
       "      <td>no</td>\n",
       "      <td>no</td>\n",
       "      <td>Chung-ryoul Lee</td>\n",
       "      <td>Choi Won-kyun</td>\n",
       "      <td>Lee Sam-soon</td>\n",
       "      <td>Moo</td>\n",
       "      <td>NaN</td>\n",
       "      <td>NaN</td>\n",
       "    </tr>\n",
       "    <tr>\n",
       "      <th>6</th>\n",
       "      <td>7</td>\n",
       "      <td>Lady Jane</td>\n",
       "      <td>Feature Film</td>\n",
       "      <td>Drama</td>\n",
       "      <td>142.0</td>\n",
       "      <td>PG-13</td>\n",
       "      <td>Paramount Home Video</td>\n",
       "      <td>1986</td>\n",
       "      <td>1</td>\n",
       "      <td>1</td>\n",
       "      <td>...</td>\n",
       "      <td>no</td>\n",
       "      <td>no</td>\n",
       "      <td>no</td>\n",
       "      <td>no</td>\n",
       "      <td>Trevor Nunn</td>\n",
       "      <td>Cary Elwes</td>\n",
       "      <td>John Wood</td>\n",
       "      <td>Michael Hordern</td>\n",
       "      <td>Jill Bennett II</td>\n",
       "      <td>Helena Bonham Carter</td>\n",
       "    </tr>\n",
       "    <tr>\n",
       "      <th>7</th>\n",
       "      <td>8</td>\n",
       "      <td>Mad Dog Time</td>\n",
       "      <td>Feature Film</td>\n",
       "      <td>Drama</td>\n",
       "      <td>93.0</td>\n",
       "      <td>R</td>\n",
       "      <td>MGM/United Artists</td>\n",
       "      <td>1996</td>\n",
       "      <td>11</td>\n",
       "      <td>8</td>\n",
       "      <td>...</td>\n",
       "      <td>yes</td>\n",
       "      <td>no</td>\n",
       "      <td>no</td>\n",
       "      <td>no</td>\n",
       "      <td>Larry Bishop</td>\n",
       "      <td>Richard Dreyfuss</td>\n",
       "      <td>Jeff Goldblum</td>\n",
       "      <td>Gabriel Byrne</td>\n",
       "      <td>Ellen Barkin</td>\n",
       "      <td>Diane Lane</td>\n",
       "    </tr>\n",
       "    <tr>\n",
       "      <th>8</th>\n",
       "      <td>9</td>\n",
       "      <td>Beauty Is Embarrassing</td>\n",
       "      <td>Documentary</td>\n",
       "      <td>Documentary</td>\n",
       "      <td>88.0</td>\n",
       "      <td>Unrated</td>\n",
       "      <td>Independent Pictures</td>\n",
       "      <td>2012</td>\n",
       "      <td>9</td>\n",
       "      <td>7</td>\n",
       "      <td>...</td>\n",
       "      <td>no</td>\n",
       "      <td>no</td>\n",
       "      <td>no</td>\n",
       "      <td>no</td>\n",
       "      <td>Neil Berkeley</td>\n",
       "      <td>Paul Reubens</td>\n",
       "      <td>Matt Groening</td>\n",
       "      <td>Todd Oldham</td>\n",
       "      <td>Jonathan Dayton</td>\n",
       "      <td>Cliff Benjamin</td>\n",
       "    </tr>\n",
       "    <tr>\n",
       "      <th>9</th>\n",
       "      <td>10</td>\n",
       "      <td>The Snowtown Murders</td>\n",
       "      <td>Feature Film</td>\n",
       "      <td>Drama</td>\n",
       "      <td>119.0</td>\n",
       "      <td>Unrated</td>\n",
       "      <td>IFC Films</td>\n",
       "      <td>2012</td>\n",
       "      <td>3</td>\n",
       "      <td>2</td>\n",
       "      <td>...</td>\n",
       "      <td>no</td>\n",
       "      <td>no</td>\n",
       "      <td>no</td>\n",
       "      <td>no</td>\n",
       "      <td>Justin Kurzel</td>\n",
       "      <td>Lucas Pittaway</td>\n",
       "      <td>Daniel Henshall</td>\n",
       "      <td>Louise Harris</td>\n",
       "      <td>Craig Coyne</td>\n",
       "      <td>Richard Green</td>\n",
       "    </tr>\n",
       "  </tbody>\n",
       "</table>\n",
       "<p>10 rows × 31 columns</p>\n",
       "</div>"
      ],
      "text/plain": [
       "   Unnamed: 0                   title    title_type        genre  runtime  \\\n",
       "0           1             Filly Brown  Feature Film        Drama     80.0   \n",
       "1           2                The Dish  Feature Film        Drama    101.0   \n",
       "2           3     Waiting for Guffman  Feature Film       Comedy     84.0   \n",
       "3           4    The Age of Innocence  Feature Film        Drama    139.0   \n",
       "4           5             Malevolence  Feature Film       Horror     90.0   \n",
       "5           6             Old Partner   Documentary  Documentary     78.0   \n",
       "6           7               Lady Jane  Feature Film        Drama    142.0   \n",
       "7           8            Mad Dog Time  Feature Film        Drama     93.0   \n",
       "8           9  Beauty Is Embarrassing   Documentary  Documentary     88.0   \n",
       "9          10    The Snowtown Murders  Feature Film        Drama    119.0   \n",
       "\n",
       "  mpaa_rating                    studio  thtr_rel_year  thtr_rel_month  \\\n",
       "0           R       Indomina Media Inc.           2013               4   \n",
       "1       PG-13     Warner Bros. Pictures           2001               3   \n",
       "2           R    Sony Pictures Classics           1996               8   \n",
       "3          PG         Columbia Pictures           1993              10   \n",
       "4           R  Anchor Bay Entertainment           2004               9   \n",
       "5     Unrated        Shcalo Media Group           2009               1   \n",
       "6       PG-13      Paramount Home Video           1986               1   \n",
       "7           R        MGM/United Artists           1996              11   \n",
       "8     Unrated      Independent Pictures           2012               9   \n",
       "9     Unrated                 IFC Films           2012               3   \n",
       "\n",
       "   thtr_rel_day  ...  best_actor_win  best_actress_win  best_dir_win  \\\n",
       "0            19  ...              no                no            no   \n",
       "1            14  ...              no                no            no   \n",
       "2            21  ...              no                no            no   \n",
       "3             1  ...             yes                no           yes   \n",
       "4            10  ...              no                no            no   \n",
       "5            15  ...              no                no            no   \n",
       "6             1  ...              no                no            no   \n",
       "7             8  ...             yes                no            no   \n",
       "8             7  ...              no                no            no   \n",
       "9             2  ...              no                no            no   \n",
       "\n",
       "   top200_box           director             actor1              actor2  \\\n",
       "0          no   Michael D. Olmos     Gina Rodriguez        Jenni Rivera   \n",
       "1          no          Rob Sitch          Sam Neill    Kevin Harrington   \n",
       "2          no  Christopher Guest  Christopher Guest    Catherine O'Hara   \n",
       "3          no    Martin Scorsese   Daniel Day-Lewis   Michelle Pfeiffer   \n",
       "4          no        Stevan Mena      Samantha Dark  R. Brandon Johnson   \n",
       "5          no    Chung-ryoul Lee      Choi Won-kyun        Lee Sam-soon   \n",
       "6          no        Trevor Nunn         Cary Elwes           John Wood   \n",
       "7          no       Larry Bishop   Richard Dreyfuss       Jeff Goldblum   \n",
       "8          no      Neil Berkeley       Paul Reubens       Matt Groening   \n",
       "9          no      Justin Kurzel     Lucas Pittaway     Daniel Henshall   \n",
       "\n",
       "                 actor3            actor4                actor5  \n",
       "0  Lou Diamond Phillips     Emilio Rivera   Joseph Julian Soria  \n",
       "1     Patrick Warburton          Tom Long        Genevieve Mooy  \n",
       "2          Parker Posey       Eugene Levy           Bob Balaban  \n",
       "3          Winona Ryder  Richard E. Grant          Alec McCowen  \n",
       "4       Brandon Johnson     Heather Magee        Richard Glover  \n",
       "5                   Moo               NaN                   NaN  \n",
       "6       Michael Hordern   Jill Bennett II  Helena Bonham Carter  \n",
       "7         Gabriel Byrne      Ellen Barkin            Diane Lane  \n",
       "8           Todd Oldham   Jonathan Dayton        Cliff Benjamin  \n",
       "9         Louise Harris       Craig Coyne         Richard Green  \n",
       "\n",
       "[10 rows x 31 columns]"
      ]
     },
     "execution_count": 26,
     "metadata": {},
     "output_type": "execute_result"
    }
   ],
   "source": [
    "# Print the first ten rows of df\n",
    "df.head(10)\n",
    "movies.head(10)"
   ]
  },
  {
   "cell_type": "markdown",
   "metadata": {
    "colab_type": "text",
    "id": "PSm-U7LEF5u_"
   },
   "source": [
    "### Using the dataframe ```df```, perform the following: \n",
    "\n",
    "* Print the first five rows of the column ```MonthlyRate```. \n",
    "* Find out the details of the column ```MonthlyRate``` like mean, maximum value, minimum value, etc. "
   ]
  },
  {
   "cell_type": "code",
   "execution_count": 9,
   "metadata": {
    "colab": {},
    "colab_type": "code",
    "id": "QS5LttI-GT2f",
    "scrolled": true
   },
   "outputs": [
    {
     "data": {
      "text/plain": [
       "0    19479\n",
       "1    24907\n",
       "2     2396\n",
       "3    23159\n",
       "4    16632\n",
       "Name: MonthlyRate, dtype: int64"
      ]
     },
     "execution_count": 9,
     "metadata": {},
     "output_type": "execute_result"
    }
   ],
   "source": [
    "# Print the first five rows of MonthlyRate\n",
    "df['MonthlyRate'][0:5]"
   ]
  },
  {
   "cell_type": "code",
   "execution_count": 10,
   "metadata": {
    "colab": {},
    "colab_type": "code",
    "id": "EzQ1a1M0GURm"
   },
   "outputs": [
    {
     "data": {
      "text/plain": [
       "count     1028.000000\n",
       "mean     14243.531128\n",
       "std       7048.768076\n",
       "min       2094.000000\n",
       "25%       8259.750000\n",
       "50%      14074.500000\n",
       "75%      20342.250000\n",
       "max      26999.000000\n",
       "Name: MonthlyRate, dtype: float64"
      ]
     },
     "execution_count": 10,
     "metadata": {},
     "output_type": "execute_result"
    }
   ],
   "source": [
    "# Find the details of MonthlyRate \n",
    "df['MonthlyRate'].describe()"
   ]
  },
  {
   "cell_type": "markdown",
   "metadata": {
    "colab_type": "text",
    "id": "3h-YOTvPQI48"
   },
   "source": [
    "---\n",
    "## Part 2 - Cleaning and manipulating data \n",
    "---"
   ]
  },
  {
   "cell_type": "markdown",
   "metadata": {
    "colab_type": "text",
    "id": "EtLzBibsQfXu"
   },
   "source": [
    "### Using the dataframe ```df```, peform the following:\n",
    "\n",
    "* Check whether there are any missing values in ```df```. \n",
    "* If yes, drop those values and print the size of ```df``` after dropping these. "
   ]
  },
  {
   "cell_type": "code",
   "execution_count": 21,
   "metadata": {
    "colab": {},
    "colab_type": "code",
    "collapsed": true,
    "id": "XG-UK53fRDRZ"
   },
   "outputs": [
    {
     "name": "stdout",
     "output_type": "stream",
     "text": [
      "Age                         0\n",
      "Attrition                   0\n",
      "BusinessTravel              0\n",
      "DailyRate                   0\n",
      "Department                  0\n",
      "DistanceFromHome            0\n",
      "Education                   0\n",
      "EducationField              0\n",
      "EmployeeCount               0\n",
      "EmployeeNumber              0\n",
      "EnvironmentSatisfaction     0\n",
      "Gender                      0\n",
      "HourlyRate                  0\n",
      "JobInvolvement              0\n",
      "JobLevel                    0\n",
      "JobRole                     0\n",
      "JobSatisfaction             0\n",
      "MaritalStatus               0\n",
      "MonthlyIncome               0\n",
      "MonthlyRate                 0\n",
      "NumCompaniesWorked          0\n",
      "OverTime                    0\n",
      "PercentSalaryHike           0\n",
      "PerformanceRating           0\n",
      "RelationshipSatisfaction    0\n",
      "StockOptionLevel            0\n",
      "TotalWorkingYears           0\n",
      "TrainingTimesLastYear       0\n",
      "WorkLifeBalance             0\n",
      "YearsAtCompany              0\n",
      "YearsInCurrentRole          0\n",
      "YearsSinceLastPromotion     0\n",
      "YearsWithCurrManager        0\n",
      "ID                          0\n",
      "MonthRateNew                0\n",
      "dtype: int64\n",
      "35980\n"
     ]
    }
   ],
   "source": [
    "# Check for missing values \n",
    "print(df.isna().sum())\n",
    "\n",
    "# Drop the missing values \n",
    "df.dropna(inplace=True)\n",
    "\n",
    "# Print the size of df after dropping \n",
    "print(df.size)"
   ]
  },
  {
   "cell_type": "markdown",
   "metadata": {
    "colab_type": "text",
    "id": "qtoGcl2XRWnS"
   },
   "source": [
    "### Using the dataframe ```df```, peform the following:\n",
    "\n",
    "* Add another column named ```MonthRateNew``` in ```df``` by subtracting the mean from ```MonthlyRate``` and dividing it by standard deviation. "
   ]
  },
  {
   "cell_type": "code",
   "execution_count": 13,
   "metadata": {
    "colab": {},
    "colab_type": "code",
    "collapsed": true,
    "id": "zDMncSUKR12P"
   },
   "outputs": [
    {
     "name": "stdout",
     "output_type": "stream",
     "text": [
      "      Age  Attrition     BusinessTravel  DailyRate              Department  \\\n",
      "0      41          1      Travel_Rarely       1102                   Sales   \n",
      "1      49          0  Travel_Frequently        279  Research & Development   \n",
      "2      37          1      Travel_Rarely       1373  Research & Development   \n",
      "3      33          0  Travel_Frequently       1392  Research & Development   \n",
      "4      27          0      Travel_Rarely        591  Research & Development   \n",
      "...   ...        ...                ...        ...                     ...   \n",
      "1023   56          0      Travel_Rarely       1255  Research & Development   \n",
      "1024   47          0      Travel_Rarely        359  Research & Development   \n",
      "1025   24          0      Travel_Rarely       1476                   Sales   \n",
      "1026   32          0      Travel_Rarely        601                   Sales   \n",
      "1027   34          0      Travel_Rarely        401  Research & Development   \n",
      "\n",
      "      DistanceFromHome  Education EducationField  EmployeeCount  \\\n",
      "0                    1          2  Life Sciences              1   \n",
      "1                    8          1  Life Sciences              1   \n",
      "2                    2          2          Other              1   \n",
      "3                    3          4  Life Sciences              1   \n",
      "4                    2          1        Medical              1   \n",
      "...                ...        ...            ...            ...   \n",
      "1023                 1          2  Life Sciences              1   \n",
      "1024                 2          4        Medical              1   \n",
      "1025                 4          1        Medical              1   \n",
      "1026                 7          5      Marketing              1   \n",
      "1027                 1          3  Life Sciences              1   \n",
      "\n",
      "      EmployeeNumber  ...  StockOptionLevel TotalWorkingYears  \\\n",
      "0                  1  ...                 0                 8   \n",
      "1                  2  ...                 1                10   \n",
      "2                  4  ...                 0                 7   \n",
      "3                  5  ...                 0                 8   \n",
      "4                  7  ...                 1                 6   \n",
      "...              ...  ...               ...               ...   \n",
      "1023            1441  ...                 1                 5   \n",
      "1024            1443  ...                 2                26   \n",
      "1025            1445  ...                 2                 5   \n",
      "1026            1446  ...                 1                 7   \n",
      "1027            1447  ...                 1                 7   \n",
      "\n",
      "      TrainingTimesLastYear  WorkLifeBalance  YearsAtCompany  \\\n",
      "0                         0                1               6   \n",
      "1                         3                3              10   \n",
      "2                         3                3               0   \n",
      "3                         3                3               8   \n",
      "4                         3                3               2   \n",
      "...                     ...              ...             ...   \n",
      "1023                      3                4               3   \n",
      "1024                      2                4              20   \n",
      "1025                      3                3               5   \n",
      "1026                      3                2               4   \n",
      "1027                      2                2               5   \n",
      "\n",
      "     YearsInCurrentRole  YearsSinceLastPromotion YearsWithCurrManager    ID  \\\n",
      "0                     4                        0                    5     0   \n",
      "1                     7                        1                    7     1   \n",
      "2                     0                        0                    0     2   \n",
      "3                     7                        3                    0     3   \n",
      "4                     2                        2                    2     4   \n",
      "...                 ...                      ...                  ...   ...   \n",
      "1023                  2                        1                    0  1023   \n",
      "1024                 17                        5                    6  1024   \n",
      "1025                  4                        0                    3  1025   \n",
      "1026                  3                        0                    3  1026   \n",
      "1027                  4                        0                    2  1027   \n",
      "\n",
      "      MonthRateNew  \n",
      "0         2.763462  \n",
      "1         3.533525  \n",
      "2         0.339918  \n",
      "3         3.285539  \n",
      "4         2.359561  \n",
      "...            ...  \n",
      "1023      1.488771  \n",
      "1024      3.788322  \n",
      "1025      2.157966  \n",
      "1026      3.311643  \n",
      "1027      0.526049  \n",
      "\n",
      "[1028 rows x 35 columns]\n"
     ]
    }
   ],
   "source": [
    "# Add a column named MonthRateNew \n",
    "df['MonthRateNew'] = df['MonthlyRate'] / df['MonthlyRate'].std()\n",
    "print(df)"
   ]
  },
  {
   "cell_type": "markdown",
   "metadata": {
    "colab_type": "text",
    "id": "pcbN7jep13og"
   },
   "source": [
    "### Using the dataframe ```movies```, perform the following: \n",
    "\n",
    "* Check whether there are any missing values in ```movies```. \n",
    "* Find out the number of observations/rows having any of their features/columns missing. \n",
    "* Drop the missing values and print the size of ```movies``` after dropping these. \n",
    "* Instead of dropping the missing values, replace the missing values by their mean (or some suitable value). \n"
   ]
  },
  {
   "cell_type": "code",
   "execution_count": null,
   "metadata": {},
   "outputs": [],
   "source": []
  },
  {
   "cell_type": "code",
   "execution_count": 38,
   "metadata": {
    "colab": {},
    "colab_type": "code",
    "id": "DNszBx8A14ai"
   },
   "outputs": [
    {
     "name": "stdout",
     "output_type": "stream",
     "text": [
      "Unnamed: 0           0\n",
      "title                0\n",
      "title_type           0\n",
      "genre                0\n",
      "runtime              0\n",
      "mpaa_rating          0\n",
      "studio               5\n",
      "thtr_rel_year        0\n",
      "thtr_rel_month       0\n",
      "thtr_rel_day         0\n",
      "dvd_rel_year         7\n",
      "dvd_rel_month        7\n",
      "dvd_rel_day          7\n",
      "imdb_rating          0\n",
      "imdb_num_votes       0\n",
      "critics_rating       0\n",
      "critics_score        0\n",
      "audience_rating      0\n",
      "audience_score       0\n",
      "best_pic_nom         0\n",
      "best_pic_win         0\n",
      "best_actor_win       0\n",
      "best_actress_win     0\n",
      "best_dir_win         0\n",
      "top200_box           0\n",
      "director             2\n",
      "actor1               2\n",
      "actor2               7\n",
      "actor3               9\n",
      "actor4              12\n",
      "actor5              14\n",
      "dtype: int64\n",
      "(600, 31)\n",
      "(572, 31)\n",
      "Unnamed: 0          0\n",
      "title               0\n",
      "title_type          0\n",
      "genre               0\n",
      "runtime             0\n",
      "mpaa_rating         0\n",
      "studio              0\n",
      "thtr_rel_year       0\n",
      "thtr_rel_month      0\n",
      "thtr_rel_day        0\n",
      "dvd_rel_year        0\n",
      "dvd_rel_month       0\n",
      "dvd_rel_day         0\n",
      "imdb_rating         0\n",
      "imdb_num_votes      0\n",
      "critics_rating      0\n",
      "critics_score       0\n",
      "audience_rating     0\n",
      "audience_score      0\n",
      "best_pic_nom        0\n",
      "best_pic_win        0\n",
      "best_actor_win      0\n",
      "best_actress_win    0\n",
      "best_dir_win        0\n",
      "top200_box          0\n",
      "director            0\n",
      "actor1              0\n",
      "actor2              0\n",
      "actor3              0\n",
      "actor4              0\n",
      "actor5              0\n",
      "dtype: int64\n"
     ]
    }
   ],
   "source": [
    "# Check for missing values \n",
    "print(movies.isna().sum())\n",
    "# Drop the missing values \n",
    "print(movies.shape)\n",
    "movies.dropna(inplace=True)\n",
    "print(movies.shape)\n",
    "# Replace the missing values \n",
    "# movies['runtime'].fillna(movies['runtime'].mean(), inplace=True)\n",
    "# movies['studio'].fillna(movies['studio'].mode(), inplace=True)\n",
    "# You can use SimpleImputer of sklearn for this\n"
   ]
  },
  {
   "cell_type": "markdown",
   "metadata": {
    "colab_type": "text",
    "id": "qDr11sjlBk_W"
   },
   "source": [
    "---\n",
    "## Part 3 - Visualizing data \n",
    "---"
   ]
  },
  {
   "cell_type": "markdown",
   "metadata": {
    "colab_type": "text",
    "id": "wC_w1zNCBw2G"
   },
   "source": [
    "### Visualize the ```df``` by drawing the following plots:\n",
    "\n",
    "* Plot a histogram of ```Age``` and find the range in which most people are there. \n",
    "* Modify the histogram of ```Age``` by adding 30 bins. \n",
    "* Draw a scatter plot between ```Age``` and ```Attrition``` and suitable labels to the axes. Find out whether people more than 50 years are more likely to leave the company. (```Attrition``` = 1 means people have left the company). "
   ]
  },
  {
   "cell_type": "code",
   "execution_count": 0,
   "metadata": {
    "colab": {},
    "colab_type": "code",
    "id": "645EwAsoH63i"
   },
   "outputs": [],
   "source": [
    "# Plot and modify the histogram of Age\n",
    "\n",
    "# Draw a scatter plot between Age and Attrition\n"
   ]
  },
  {
   "cell_type": "markdown",
   "metadata": {
    "colab_type": "text",
    "id": "eez_pkZ-HDKP"
   },
   "source": [
    "### Visualize the ```df``` by following the steps given below:\n",
    "\n",
    "* Get a series containing counts of unique values of ```Attrition```.\n",
    "* Draw a countplot for ```Attrition``` using ```sns.countplot()```. "
   ]
  },
  {
   "cell_type": "code",
   "execution_count": 0,
   "metadata": {
    "colab": {},
    "colab_type": "code",
    "id": "Tp8LnxLWIPfk"
   },
   "outputs": [],
   "source": [
    "# Get a series of counts of values of Attrition\n",
    "\n",
    "\n",
    "# Draw a countplot for Attrition \n",
    "# You may use countplot of seaborn for this \n",
    "\n"
   ]
  },
  {
   "cell_type": "markdown",
   "metadata": {
    "colab_type": "text",
    "id": "Vi01m9MBHaJD"
   },
   "source": [
    "### Visualize the ```df``` by following the steps given below:\n",
    "\n",
    "* Draw a cross tabulation of ```Attrition``` and ```BusinessTravel``` as bar charts. Find which value of ```BusinessTravel``` has highest number of people."
   ]
  },
  {
   "cell_type": "code",
   "execution_count": 0,
   "metadata": {
    "colab": {},
    "colab_type": "code",
    "id": "5OHAeOqeIQVM"
   },
   "outputs": [],
   "source": [
    "# Draw a cross tab of Attritiona and BusinessTravel \n",
    "# You may use crosstab of pandas for this \n",
    "\n"
   ]
  },
  {
   "cell_type": "markdown",
   "metadata": {
    "colab_type": "text",
    "id": "1FCc9ZkUHfqL"
   },
   "source": [
    "### Visualize the ```df``` by drawing the following plot:\n",
    "\n",
    "* Draw a stacked bar chart between ```Attrition``` and ```Gender``` columns. "
   ]
  },
  {
   "cell_type": "code",
   "execution_count": 0,
   "metadata": {
    "colab": {},
    "colab_type": "code",
    "id": "58ELSAXBIQST"
   },
   "outputs": [],
   "source": [
    "# Draw a stacked bar chart between Attrition and Gender \n",
    "\n"
   ]
  },
  {
   "cell_type": "markdown",
   "metadata": {
    "colab_type": "text",
    "id": "vZzsi8_QLEdq"
   },
   "source": [
    "### Visualize the ```df``` by drawing the following histogram:\n",
    "\n",
    "* Draw a histogram of ```TotalWorkingYears``` with 30 bins. \n",
    "* Draw a histogram of ```YearsAtCompany``` with 30 bins and find whether the values in ```YearsAtCompany``` are skewed. "
   ]
  },
  {
   "cell_type": "code",
   "execution_count": 0,
   "metadata": {
    "colab": {},
    "colab_type": "code",
    "id": "zvSlfj3FLUvV"
   },
   "outputs": [],
   "source": [
    "# Draw a histogram of TotalWorkingYears with 30 bins\n",
    "\n",
    "\n",
    "# Draw a histogram of YearsAtCompany\n",
    "\n"
   ]
  },
  {
   "cell_type": "markdown",
   "metadata": {
    "colab_type": "text",
    "id": "oBcsFqz-Moja"
   },
   "source": [
    "### Visualize the ```df``` by drawing the following boxplot:\n",
    "\n",
    "* Draw a boxplot of ```MonthlyIncome``` for each ```Department``` and report whether there is/are outlier(s). \n"
   ]
  },
  {
   "cell_type": "code",
   "execution_count": 0,
   "metadata": {
    "colab": {},
    "colab_type": "code",
    "id": "S6zsSE65NED9"
   },
   "outputs": [],
   "source": [
    "# Draw a boxplot of MonthlyIncome for each Department and report outliers \n",
    "\n"
   ]
  },
  {
   "cell_type": "markdown",
   "metadata": {
    "colab_type": "text",
    "id": "NRPgJjp-NX07"
   },
   "source": [
    "### Visualize the ```df``` by drawing the following piechart:\n",
    "\n",
    "* Create a pie chart of the values in ```JobRole``` with suitable label and report which role has highest number of persons. "
   ]
  },
  {
   "cell_type": "code",
   "execution_count": 0,
   "metadata": {
    "colab": {},
    "colab_type": "code",
    "id": "5pr2HVVGNlaV"
   },
   "outputs": [],
   "source": [
    "# Create a piechart of JobRole \n",
    "# You will need to find the counts of unique values in JobRole. \n",
    "\n",
    "\n"
   ]
  }
 ],
 "metadata": {
  "colab": {
   "collapsed_sections": [],
   "name": "Assignment_2_DS.ipynb",
   "provenance": []
  },
  "kernelspec": {
   "display_name": "Python 3",
   "language": "python",
   "name": "python3"
  },
  "language_info": {
   "codemirror_mode": {
    "name": "ipython",
    "version": 3
   },
   "file_extension": ".py",
   "mimetype": "text/x-python",
   "name": "python",
   "nbconvert_exporter": "python",
   "pygments_lexer": "ipython3",
   "version": "3.7.4"
  }
 },
 "nbformat": 4,
 "nbformat_minor": 1
}
